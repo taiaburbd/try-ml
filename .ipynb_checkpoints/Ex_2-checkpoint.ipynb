{
 "cells": [
  {
   "cell_type": "markdown",
   "metadata": {
    "id": "Koth3HNhxtDC"
   },
   "source": [
    "**IMPORT** LIBRARIES"
   ]
  },
  {
   "cell_type": "code",
   "execution_count": 6,
   "metadata": {
    "executionInfo": {
     "elapsed": 279,
     "status": "ok",
     "timestamp": 1678394465833,
     "user": {
      "displayName": "Alessandra Scotto di Freca",
      "userId": "03019595953157693485"
     },
     "user_tz": -60
    },
    "id": "ujWrLxRuSRhk"
   },
   "outputs": [],
   "source": [
    "import numpy as np \n",
    "import pandas as pd\n",
    "from sklearn.neighbors import KNeighborsClassifier     #KNN\n",
    "from sklearn.metrics import accuracy_score"
   ]
  },
  {
   "cell_type": "markdown",
   "metadata": {
    "id": "McKleb43uiGU"
   },
   "source": [
    "READ THE DATA:\n",
    "\n",
    "- In this challenge you will use the dataset Titanic disaster.\n",
    "- With the following lines of code, you can import the dataset form the file \"train.csv\", extract te column of labels (column \"Survived\") and read the infos of the other features.\n",
    "\n",
    "you can also follow kaggle competition:\n",
    "https://www.kaggle.com/code/amitkumarjaiswal/beginner-s-tutorial-to-titanic-using-scikit-learn/notebook\n",
    "\n",
    "---\n",
    "\n"
   ]
  },
  {
   "cell_type": "code",
   "execution_count": 9,
   "metadata": {
    "colab": {
     "base_uri": "https://localhost:8080/"
    },
    "executionInfo": {
     "elapsed": 4240,
     "status": "ok",
     "timestamp": 1678394471974,
     "user": {
      "displayName": "Alessandra Scotto di Freca",
      "userId": "03019595953157693485"
     },
     "user_tz": -60
    },
    "id": "Szs66ADCSqxU",
    "outputId": "e8c76e8f-b7de-456c-89e4-94587c892813"
   },
   "outputs": [
    {
     "name": "stdout",
     "output_type": "stream",
     "text": [
      "<class 'pandas.core.frame.DataFrame'>\n",
      "RangeIndex: 891 entries, 0 to 890\n",
      "Data columns (total 11 columns):\n",
      " #   Column       Non-Null Count  Dtype  \n",
      "---  ------       --------------  -----  \n",
      " 0   PassengerId  891 non-null    int64  \n",
      " 1   Pclass       891 non-null    int64  \n",
      " 2   Name         891 non-null    object \n",
      " 3   Sex          891 non-null    object \n",
      " 4   Age          714 non-null    float64\n",
      " 5   SibSp        891 non-null    int64  \n",
      " 6   Parch        891 non-null    int64  \n",
      " 7   Ticket       891 non-null    object \n",
      " 8   Fare         891 non-null    float64\n",
      " 9   Cabin        204 non-null    object \n",
      " 10  Embarked     889 non-null    object \n",
      "dtypes: float64(2), int64(4), object(5)\n",
      "memory usage: 76.7+ KB\n"
     ]
    },
    {
     "data": {
      "text/plain": [
       "0      0\n",
       "1      1\n",
       "2      1\n",
       "3      1\n",
       "4      0\n",
       "      ..\n",
       "886    0\n",
       "887    1\n",
       "888    0\n",
       "889    1\n",
       "890    0\n",
       "Name: Survived, Length: 891, dtype: int64"
      ]
     },
     "execution_count": 9,
     "metadata": {},
     "output_type": "execute_result"
    }
   ],
   "source": [
    "#from google.colab import drive\n",
    "#if you downloaded the file in the Colab directory in your Google Drive, use the following lines of code\n",
    "#drive.mount('/gdrive', force_remount=True)\n",
    "Tr_file=\"datasets/T_db/train.csv\" \n",
    "Ts_file=\"datasets/T_db/test.csv\" \n",
    "dataset=pd.read_csv(Tr_file)\n",
    "ts_ds=pd.read_csv(Ts_file)\n",
    "X_tr=dataset.drop('Survived',axis=1)\n",
    "X_ts= dataset.drop('Survived',axis=1)\n",
    "\n",
    "Y_tr=dataset.Survived\n",
    "Y_ts=dataset.Survived\n",
    "\n",
    "X_tr.info()\n",
    "Y_tr\n",
    "\n"
   ]
  },
  {
   "cell_type": "markdown",
   "metadata": {
    "id": "oTlJC2jowQwG"
   },
   "source": [
    "FEATURES ENGINEERING:\n",
    "\n",
    "- Evaluate if there are features with missing values and modify them (see https://scikit-learn.org/stable/modules/impute.html)\n",
    "- Find meaningful features (some features are not needed because do not contain useful infos)\n",
    "- Encode categorical features with numerical values (see https://scikit-learn.org/stable/modules/preprocessing.html#encoding-categorical-features)"
   ]
  },
  {
   "cell_type": "markdown",
   "metadata": {
    "id": "7QqT1Lfpq8vs"
   },
   "source": [
    "**MISSING VALUE WITH A FIXED VALUE** "
   ]
  },
  {
   "cell_type": "markdown",
   "metadata": {
    "id": "8onAH17Fqj-G"
   },
   "source": [
    "**MISSING VALUE WITH MEAN VALUE AND MOST FREQUENT VALUE** "
   ]
  },
  {
   "cell_type": "markdown",
   "metadata": {
    "id": "s9-u6QKhsEgB"
   },
   "source": [
    "**CATEGORICAL FEATURES**"
   ]
  },
  {
   "cell_type": "markdown",
   "metadata": {
    "id": "zWicdVci0Rmu"
   },
   "source": [
    "*MEANINGFUL FEATURES - SELECTION - EXTRACTION -"
   ]
  },
  {
   "cell_type": "code",
   "execution_count": null,
   "metadata": {
    "colab": {
     "base_uri": "https://localhost:8080/"
    },
    "executionInfo": {
     "elapsed": 281,
     "status": "ok",
     "timestamp": 1678396415721,
     "user": {
      "displayName": "Alessandra Scotto di Freca",
      "userId": "03019595953157693485"
     },
     "user_tz": -60
    },
    "id": "kjs2HJEXwSgX",
    "outputId": "ba22170f-a53f-4bed-8af6-c34128f8316d"
   },
   "outputs": [],
   "source": [
    "#DO NOT MODIFY THE CLASSIFIER AND THE PERFORMANCE EVALUATION\n",
    "\n",
    "knn = KNeighborsClassifier(n_neighbors=3)\n",
    "knn.fit(X_tr,Y_tr)\n",
    "scores = knn.predict(X_ts)\n",
    "\n",
    "# Show prediction accuracy\n",
    "print('\\nPrediction accuracy:')\n",
    "print('{:.2%}\\n'.format(accuracy_score(Y_ts, scores)))\n",
    "\n"
   ]
  }
 ],
 "metadata": {
  "colab": {
   "provenance": [
    {
     "file_id": "1CWqPKSa4enraM9H6Uv5_ULmokpExbrTE",
     "timestamp": 1678189175360
    },
    {
     "file_id": "1LWBD3UDMRIIX2DOTGRpwqOruV3kQTW2c",
     "timestamp": 1648123768835
    }
   ]
  },
  "kernelspec": {
   "display_name": "Python 3 (ipykernel)",
   "language": "python",
   "name": "python3"
  },
  "language_info": {
   "codemirror_mode": {
    "name": "ipython",
    "version": 3
   },
   "file_extension": ".py",
   "mimetype": "text/x-python",
   "name": "python",
   "nbconvert_exporter": "python",
   "pygments_lexer": "ipython3",
   "version": "3.9.13"
  }
 },
 "nbformat": 4,
 "nbformat_minor": 1
}
