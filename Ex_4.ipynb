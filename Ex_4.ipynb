{
  "cells": [
    {
      "cell_type": "markdown",
      "metadata": {
        "id": "yFEXMZ5aRRm_"
      },
      "source": [
        "IMPORT LIBRARIES\n",
        "\n",
        "- In this example there are only libraries needed for the example code."
      ]
    },
    {
      "cell_type": "code",
      "execution_count": 1,
      "metadata": {
        "id": "OKrTLhYbRd0T"
      },
      "outputs": [],
      "source": [
        "import numpy as np\n",
        "from sklearn.datasets import load_digits\n",
        "import matplotlib.pyplot as plt\n",
        "from sklearn.preprocessing import StandardScaler\n",
        "from sklearn.svm import SVC\n",
        "from sklearn.model_selection import GridSearchCV, StratifiedKFold\n",
        "from sklearn.pipeline import Pipeline"
      ]
    },
    {
      "cell_type": "markdown",
      "metadata": {
        "id": "9MtNjA_JRen9"
      },
      "source": [
        "READ THE DATA:\n",
        "\n",
        "- In this challenge you will use the dataset \"Optical recognition of handwritten digits\", usually indicated as Digits.\n",
        ">In the following example, how to load and read  the info of  this dataset, and visualize some of the samples.\n"
      ]
    },
    {
      "cell_type": "code",
      "execution_count": 2,
      "metadata": {
        "colab": {
          "base_uri": "https://localhost:8080/",
          "height": 214
        },
        "id": "zj2IZiZBRhfv",
        "outputId": "7c0dce33-7de5-4f05-ef4c-b093a0ab15f2"
      },
      "outputs": [
        {
          "name": "stdout",
          "output_type": "stream",
          "text": [
            "Image Data Shape (1797, 64)\n",
            "Label Data Shape (1797,)\n"
          ]
        },
        {
          "data": {
            "image/png": "[encoded data removed]",
            "text/plain": [
              "<Figure size 2000x400 with 10 Axes>"
            ]
          },
          "metadata": {},
          "output_type": "display_data"
        }
      ],
      "source": [
        "digits = load_digits()\n",
        "\n",
        "print(\"Image Data Shape\" , digits.data.shape)\n",
        "print(\"Label Data Shape\", digits.target.shape)\n",
        "\n",
        "plt.figure(figsize=(20,4))\n",
        "for index, (image, label) in enumerate(zip(digits.data[0:10], digits.target[0:10])):\n",
        "    plt.subplot(1, 10, index + 1)\n",
        "    plt.imshow(np.reshape(image, (8,8)), cmap=plt.cm.gray)\n",
        "    plt.title('Training: %i\\n' % label, fontsize = 15)\n"
      ]
    },
    {
      "cell_type": "markdown",
      "metadata": {
        "id": "yYj_SCHsZhel"
      },
      "source": [
        "FEATURE EXTRACTION\n",
        "\n",
        "- Transform the raw images into feature data:\n",
        ">To apply a classifier on the images, we can use the pixel values as features. We need to flatten the image and turn the data in a matrix with samples on the rows and features on the columns.\n"
      ]
    },
    {
      "cell_type": "code",
      "execution_count": 3,
      "metadata": {
        "id": "hoWPs9pNZr9r"
      },
      "outputs": [],
      "source": [
        "n_samples = len(digits.images)\n",
        "digits_data = digits.images.reshape((n_samples, -1))\n",
        "digits_class = digits.target"
      ]
    },
    {
      "cell_type": "markdown",
      "metadata": {
        "id": "k4OVb-WIRhtm"
      },
      "source": [
        "FEATURE ENGINEERING AND TRAINING/TEST OF THE LEARNING MODEL \n",
        "\n",
        "- Evaluate if you need features normalization, feature selection or dimensionality reduction;\n",
        "- Find the best parameter for a classifier using a grid search approach applied on a stratified k-fold cross validation;\n",
        "- Evaluate the accuracy and the confusion matrix.\n",
        "\n",
        ">Use these classifiers:\n",
        "- SVM (different models and different kernels), see https://scikit-learn.org/stable/modules/svm.html\n",
        "- Ensemble methods (e.g., RandomForest, AdaBoost, GradientBoosting, etc.), see https://scikit-learn.org/stable/modules/ensemble.html\n",
        "\n",
        ">>Which one is the best? \n",
        "- Can you find a combination rule (e.g. majority voting, simple average, etc.) to build an ensemble of classifiers (e.g. decision trees, Naïve Bayes, etc.) with similar performances?\n",
        "\n"
      ]
    },
    {
      "cell_type": "code",
      "execution_count": 4,
      "metadata": {
        "colab": {
          "base_uri": "https://localhost:8080/"
        },
        "id": "jj3Sy9yCRlAH",
        "outputId": "4e307d65-f00b-48ac-d594-c1bfb7ae8418"
      },
      "outputs": [
        {
          "name": "stdout",
          "output_type": "stream",
          "text": [
            "The best parameters are {'classifier__C': 0.1} with an accuracy of 0.9822\n"
          ]
        }
      ],
      "source": [
        "#As an example in the following code lines there is a pipeline with standard scaler and linear SVM\n",
        "  #where the C parameter is optimized with a grid search on a stratified cross validation\n",
        "\n",
        "#As an example, let's fix some variables\n",
        "n_values = 11\n",
        "lower_value_C = -5\n",
        "higher_value_C = 5\n",
        "\n",
        "#Let's apply a stratified 10-fold cross validation\n",
        "cv = StratifiedKFold(n_splits=10, shuffle=True, random_state=42)\n",
        "\n",
        "#Let's build a pipeline with only a scaler and a linear SVM\n",
        "pipe = Pipeline([('scaler', StandardScaler()),('classifier',SVC(kernel='linear'))])\n",
        "\n",
        "#Let's build a structure for the grid search with a set of parameters for the techniques in the pipeline\n",
        "#Be careful to the double underscore between the name you chose in the pipeline and the name of the parameter\n",
        "#Be careful also to the function logspace for the range of the C values\n",
        "parameters={'classifier__C': np.logspace(lower_value_C, higher_value_C, num=n_values,base=10)}\n",
        "\n",
        "#Let's apply the grid search function\n",
        "grid_search = GridSearchCV(pipe, parameters, cv=cv)\n",
        "#Let's train and test the learning system\n",
        "grid_search.fit(digits_data, digits_class)\n",
        "\n",
        "#Here we just print the best accuracy and the corresponding values for the parameters\n",
        "print(\"The best parameters are %s with an accuracy of %0.4f\"%(grid_search.best_params_, grid_search.best_score_))"
      ]
    }
  ],
  "metadata": {
    "colab": {
      "provenance": []
    },
    "kernelspec": {
      "display_name": "Python 3",
      "name": "python3"
    },
    "language_info": {
      "codemirror_mode": {
        "name": "ipython",
        "version": 3
      },
      "file_extension": ".py",
      "mimetype": "text/x-python",
      "name": "python",
      "nbconvert_exporter": "python",
      "pygments_lexer": "ipython3",
      "version": "3.9.13"
    }
  },
  "nbformat": 4,
  "nbformat_minor": 0
}
